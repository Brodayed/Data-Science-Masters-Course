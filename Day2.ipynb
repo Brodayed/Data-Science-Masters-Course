{
 "cells": [
  {
   "cell_type": "code",
   "execution_count": 4,
   "id": "6b55bed5-cb97-442b-b161-761798f9daaf",
   "metadata": {},
   "outputs": [
    {
     "name": "stdout",
     "output_type": "stream",
     "text": [
      "My age is: 40\n"
     ]
    }
   ],
   "source": [
    "age=40\n",
    "print(\"My age is:\", age)"
   ]
  },
  {
   "cell_type": "code",
   "execution_count": 5,
   "id": "97535462-2988-4451-8ff1-dd609068893f",
   "metadata": {},
   "outputs": [
    {
     "name": "stdout",
     "output_type": "stream",
     "text": [
      "My age is: {age}\n"
     ]
    }
   ],
   "source": [
    "print(\"My age is: {age}\")"
   ]
  },
  {
   "cell_type": "code",
   "execution_count": 6,
   "id": "1fbc69a9-9a2c-482c-ad58-21ef41049f4c",
   "metadata": {},
   "outputs": [
    {
     "name": "stdout",
     "output_type": "stream",
     "text": [
      "My age is: 40\n"
     ]
    }
   ],
   "source": [
    "print(f\"My age is: {age}\")"
   ]
  },
  {
   "cell_type": "code",
   "execution_count": 3,
   "id": "83265042-6507-419e-8c6f-7551265620c5",
   "metadata": {},
   "outputs": [
    {
     "name": "stdout",
     "output_type": "stream",
     "text": [
      "My name is Krish and age is 32\n"
     ]
    }
   ],
   "source": [
    "## format()\n",
    "name=\"Krish\"\n",
    "age=32\n",
    "print(\"My name is {} and age is {}\".format(name,age))"
   ]
  },
  {
   "cell_type": "code",
   "execution_count": 6,
   "id": "55a40b98-35a1-4960-8290-86a74ab9fef1",
   "metadata": {},
   "outputs": [
    {
     "name": "stdout",
     "output_type": "stream",
     "text": [
      "My name is Krish and age is 32\n"
     ]
    }
   ],
   "source": [
    "## Placeholder\n",
    "print(\"My name is {firstname} and age is {firstage}\".format(firstage=age,firstname=name))"
   ]
  },
  {
   "cell_type": "code",
   "execution_count": 11,
   "id": "83e11b8c-864b-4323-97bc-2e7a2ba89279",
   "metadata": {},
   "outputs": [
    {
     "data": {
      "text/plain": [
       "'My age is 40, I have completed by education in BE with name Manish Jethwani'"
      ]
     },
     "execution_count": 11,
     "metadata": {},
     "output_type": "execute_result"
    }
   ],
   "source": [
    "name=\"Manish\"\n",
    "Education=\"BE\"\n",
    "age=40\n",
    "\"My age is 40, I have completed by education in BE with name Manish Jethwani\""
   ]
  },
  {
   "cell_type": "code",
   "execution_count": 12,
   "id": "7c381201-c122-4201-8af5-190de2a1f5ec",
   "metadata": {},
   "outputs": [
    {
     "name": "stdout",
     "output_type": "stream",
     "text": [
      "My age is 40, I have completed by education BE with name Manish\n"
     ]
    }
   ],
   "source": [
    "print(\"My age is {myage}, I have completed by education {myeducation} with name {myname}\".format(myage=age,myeducation=Education,myname=name))"
   ]
  },
  {
   "cell_type": "code",
   "execution_count": 14,
   "id": "dbaf63a1-421e-40c7-bf55-effaea8e30d0",
   "metadata": {},
   "outputs": [
    {
     "name": "stdout",
     "output_type": "stream",
     "text": [
      "My age is 40, I have completed by education BE with name Manish\n"
     ]
    }
   ],
   "source": [
    "print(f\"My age is {age}, I have completed by education {Education} with name {name}\")"
   ]
  },
  {
   "cell_type": "markdown",
   "id": "05d11444-10ee-4838-9a81-cd3de31dea66",
   "metadata": {},
   "source": [
    "# Control Flow"
   ]
  },
  {
   "cell_type": "markdown",
   "id": "113cec35-0a19-4e9f-a204-def8d54f3eea",
   "metadata": {},
   "source": [
    "### Decision Making Statements\n",
    "* It is kind of making decision during occurred situation of program execution and action can be taken according to specified conditions.\n",
    "    * Structure of decision making evaluate several expressions that provide true or false as a result.\n",
    "    * It is up to you to decide which type of action to take and execute the statements based upon True or False\n",
    "    \n",
    "** These are several topics of decision making which are going to be discussed \"\"\n",
    "    1. **if**\n",
    "    2. **if else**\n",
    "    3. **if elif else**\n",
    "    4. **nested if**\n",
    "    5. **Single statement suites**"
   ]
  },
  {
   "cell_type": "markdown",
   "id": "3e603bc7-644e-416f-8faa-78bbc269a089",
   "metadata": {},
   "source": [
    "## Decision Making Statements\n",
    "* It is kind of making decision during occurred situation of program execution and action can be taken according to specified conditions.\n",
    "* Structure of decision making evaluate several expressions that provide true or false as a result.\n",
    "    It is up to you to decide which type of action to take and execute the statements based upon True or False\n",
    "    ** These are several topics of decision making which are going to be discussed **\n",
    "    1. **if**\n",
    "    2. **if else** \n",
    "    3. **if elif else** \n",
    "    4. **nested if** \n",
    "    5. **Single statement suites**"
   ]
  },
  {
   "cell_type": "code",
   "execution_count": 17,
   "id": "e156232d-e952-4a75-816f-0f1de00f5379",
   "metadata": {},
   "outputs": [
    {
     "name": "stdout",
     "output_type": "stream",
     "text": [
      "You are eligible to vote\n"
     ]
    }
   ],
   "source": [
    "## If Statements: ==, >=, <=\n",
    "age=17\n",
    "if age<18:\n",
    "    print(\"You are eligible to vote\")"
   ]
  },
  {
   "cell_type": "code",
   "execution_count": 18,
   "id": "1e66ee8c-0d8b-4601-9888-55932a2cbdb4",
   "metadata": {},
   "outputs": [
    {
     "data": {
      "text/plain": [
       "True"
      ]
     },
     "execution_count": 18,
     "metadata": {},
     "output_type": "execute_result"
    }
   ],
   "source": [
    "18<=18"
   ]
  },
  {
   "cell_type": "code",
   "execution_count": 19,
   "id": "bea2337e-a7aa-4825-88e3-4c39446cb9d5",
   "metadata": {},
   "outputs": [
    {
     "name": "stdin",
     "output_type": "stream",
     "text": [
      " krish naik\n"
     ]
    },
    {
     "data": {
      "text/plain": [
       "'krish naik'"
      ]
     },
     "execution_count": 19,
     "metadata": {},
     "output_type": "execute_result"
    }
   ],
   "source": [
    "input()"
   ]
  },
  {
   "cell_type": "code",
   "execution_count": null,
   "id": "a63b0140-59dd-4aae-a8f0-4839e64f46ba",
   "metadata": {},
   "outputs": [],
   "source": []
  },
  {
   "cell_type": "code",
   "execution_count": 20,
   "id": "1724ab51-62b9-443b-b30e-58ac6a8488a3",
   "metadata": {},
   "outputs": [
    {
     "name": "stdin",
     "output_type": "stream",
     "text": [
      "Enter Your Name Manish\n"
     ]
    }
   ],
   "source": [
    "name=input(\"Enter Your Name\")\n"
   ]
  },
  {
   "cell_type": "code",
   "execution_count": 22,
   "id": "46d9d056-83a7-48fa-b104-411de80c4672",
   "metadata": {},
   "outputs": [
    {
     "data": {
      "text/plain": [
       "40"
      ]
     },
     "execution_count": 22,
     "metadata": {},
     "output_type": "execute_result"
    }
   ],
   "source": [
    "age"
   ]
  },
  {
   "cell_type": "code",
   "execution_count": 23,
   "id": "b3dae0d4-44f7-485d-9da4-955da9fe6aeb",
   "metadata": {},
   "outputs": [
    {
     "data": {
      "text/plain": [
       "int"
      ]
     },
     "execution_count": 23,
     "metadata": {},
     "output_type": "execute_result"
    }
   ],
   "source": [
    "type(age)"
   ]
  },
  {
   "cell_type": "code",
   "execution_count": 21,
   "id": "21bbb69a-0272-4cc9-b988-dccd7d9e172b",
   "metadata": {},
   "outputs": [
    {
     "name": "stdin",
     "output_type": "stream",
     "text": [
      "Enter your age 40\n"
     ]
    }
   ],
   "source": [
    "age=int(input(\"Enter your age\"))"
   ]
  },
  {
   "cell_type": "code",
   "execution_count": 24,
   "id": "3397baff-c51c-4083-85d0-46d0c684971c",
   "metadata": {},
   "outputs": [
    {
     "data": {
      "text/plain": [
       "str"
      ]
     },
     "execution_count": 24,
     "metadata": {},
     "output_type": "execute_result"
    }
   ],
   "source": [
    "type(name)"
   ]
  },
  {
   "cell_type": "code",
   "execution_count": 25,
   "id": "98013a3f-ab75-4cbe-93d9-ae1174bd056b",
   "metadata": {},
   "outputs": [
    {
     "data": {
      "text/plain": [
       "'Manish'"
      ]
     },
     "execution_count": 25,
     "metadata": {},
     "output_type": "execute_result"
    }
   ],
   "source": [
    "name\n"
   ]
  },
  {
   "cell_type": "code",
   "execution_count": null,
   "id": "936600e3-a7a0-42ed-af3a-71e9e5cd63e5",
   "metadata": {},
   "outputs": [],
   "source": [
    "## Task\n",
    "## Take an input of age\n",
    "## Check whether age is >=18 or <=32\n",
    "## display a message you are young blood\n"
   ]
  },
  {
   "cell_type": "code",
   "execution_count": 28,
   "id": "2a673402-eb1d-47ff-a994-095099dc3a85",
   "metadata": {},
   "outputs": [
    {
     "name": "stdin",
     "output_type": "stream",
     "text": [
      "My age is 72\n"
     ]
    },
    {
     "name": "stdout",
     "output_type": "stream",
     "text": [
      "Your application is rejected\n"
     ]
    }
   ],
   "source": [
    "age=int(input(\"My age is\"))\n",
    "if age>=18 and age<=32:\n",
    "    print(\"You are young blood\")\n",
    "else: \n",
    "    print(\"Your application is rejected\")"
   ]
  },
  {
   "cell_type": "code",
   "execution_count": null,
   "id": "e46632be-e495-4d2c-99da-55e2caca899c",
   "metadata": {},
   "outputs": [],
   "source": [
    "## Mall - input the product price\n",
    "## product > 1000 rs 20% off\n",
    "## product <=1000 rs 30% off"
   ]
  },
  {
   "cell_type": "code",
   "execution_count": 41,
   "id": "747b73b7-d95c-4052-9e3e-30822c72bf7a",
   "metadata": {},
   "outputs": [
    {
     "name": "stdin",
     "output_type": "stream",
     "text": [
      "Enter the product price 800\n"
     ]
    },
    {
     "name": "stdout",
     "output_type": "stream",
     "text": [
      "Congratulations! Your effective price is 560\n"
     ]
    }
   ],
   "source": [
    "Price=int(input(\"Enter the product price\"))\n",
    "if Price>1000:\n",
    "    EffectivePrice=int(Price*0.8)\n",
    "    print(f\"Congratulations! Your effective price is {EffectivePrice}\")\n",
    "else:\n",
    "    Effectiveprice=int(Price*0.7)\n",
    "    print(f\"Congratulations! Your effective price is {Effectiveprice}\")"
   ]
  },
  {
   "cell_type": "code",
   "execution_count": 4,
   "id": "4047a037-c787-4121-be07-40533de1041d",
   "metadata": {},
   "outputs": [
    {
     "name": "stdin",
     "output_type": "stream",
     "text": [
      "Enter the product price 8\n"
     ]
    },
    {
     "name": "stdout",
     "output_type": "stream",
     "text": [
      "Congratulations! Your effective price is 5.6\n"
     ]
    }
   ],
   "source": [
    "Price=int(input(\"Enter the product price\"))\n",
    "if Price>1000:\n",
    "    print(\"Congratulations! Your effective price is {}\".format(Price*0.8))\n",
    "else:\n",
    "      print(\"Congratulations! Your effective price is {}\".format(Price*0.7))"
   ]
  },
  {
   "cell_type": "code",
   "execution_count": null,
   "id": "96404cde-2e05-4bf9-a590-a1e4e4af1a71",
   "metadata": {},
   "outputs": [],
   "source": [
    "## Mall - input the product price\n",
    "## product > 3000 rs 20% off\n",
    "## product >=2000 rs amd <=3000 30% off\n",
    "## product <=1000 rs and <=2000 40"
   ]
  },
  {
   "cell_type": "code",
   "execution_count": 21,
   "id": "bde75250-7951-4032-866a-9adc1e0c8068",
   "metadata": {},
   "outputs": [
    {
     "name": "stdin",
     "output_type": "stream",
     "text": [
      "Enter the product price 4000\n"
     ]
    },
    {
     "name": "stdout",
     "output_type": "stream",
     "text": [
      "Congratulations! you get a Goa trip!\n",
      "Congratulations! Your effective price is 3200.0\n"
     ]
    }
   ],
   "source": [
    "Price=int(input(\"Enter the product price\"))\n",
    "if Price>3000:\n",
    "     if Price==4000:\n",
    "            print(\"Congratulations! you get a Goa trip!\")\n",
    "            print(\"Congratulations! Your effective price is {}\".format(Price*0.8))\n",
    "elif Price<=3000 and Price>2000:\n",
    "        print(\"Congratulations! Your effective price is {}\".format(Price*0.7))\n",
    "elif Price<=2000 and Price>=1000:\n",
    "    print(\"Congratulations! Your effective price is {}\".format(Price*0.6))\n",
    "else:\n",
    "    print(\"Sorry, no discount applicable, your effective price is {}\".format(Price))"
   ]
  },
  {
   "cell_type": "code",
   "execution_count": null,
   "id": "8699c741-c5d4-4f80-bf8d-7da104b690ef",
   "metadata": {},
   "outputs": [],
   "source": [
    "## Comparison operator\n",
    "True==True"
   ]
  },
  {
   "cell_type": "code",
   "execution_count": 22,
   "id": "e5c51aad-4e2f-4224-a934-1b7341952874",
   "metadata": {},
   "outputs": [
    {
     "name": "stdin",
     "output_type": "stream",
     "text": [
      "Enter the number 500\n"
     ]
    },
    {
     "name": "stdout",
     "output_type": "stream",
     "text": [
      "value is less than equal to 999\n"
     ]
    }
   ],
   "source": [
    "## Single Statement\n",
    "val=int(input(\"Enter the number\"))\n",
    "if(val<=999):print(\"value is less than equal to 999\")"
   ]
  },
  {
   "cell_type": "code",
   "execution_count": null,
   "id": "8e226d85-8e97-42b1-b884-77d42579eec2",
   "metadata": {},
   "outputs": [],
   "source": []
  }
 ],
 "metadata": {
  "kernelspec": {
   "display_name": "Python 3 (ipykernel)",
   "language": "python",
   "name": "python3"
  },
  "language_info": {
   "codemirror_mode": {
    "name": "ipython",
    "version": 3
   },
   "file_extension": ".py",
   "mimetype": "text/x-python",
   "name": "python",
   "nbconvert_exporter": "python",
   "pygments_lexer": "ipython3",
   "version": "3.10.8"
  }
 },
 "nbformat": 4,
 "nbformat_minor": 5
}
